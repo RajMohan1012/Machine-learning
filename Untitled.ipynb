{
 "cells": [
  {
   "cell_type": "code",
   "execution_count": null,
   "metadata": {},
   "outputs": [],
   "source": [
    "import pandas as pd #padans is used to access the matrics and vectors structure data. s"
   ]
  },
  {
   "cell_type": "code",
   "execution_count": null,
   "metadata": {},
   "outputs": [],
   "source": [
    "data = pd.read_csv(\"salary_data.csv\")  #assinging the dataset into the varaible data"
   ]
  },
  {
   "cell_type": "code",
   "execution_count": null,
   "metadata": {},
   "outputs": [],
   "source": [
    "Independent  = data[[\"years of experince\"]] # assinging input data into indenpendent \n",
    "dependent = data[[\"salary\"]] #assinging output data into denpendent"
   ]
  },
  {
   "cell_type": "code",
   "execution_count": null,
   "metadata": {},
   "outputs": [],
   "source": [
    "#In the below line we are splitting dataset into training_set and test_set\n",
    "#train_set is used create a model\n",
    "#test_set is used to validate the model created.\n",
    "\n",
    "from sklearn.model_selection import train_test_split\n",
    "X_train,X_test,Y_train,Y_test = train_test_split(independent,dependent,test_size=1/3,random_state=0)"
   ]
  },
  {
   "cell_type": "code",
   "execution_count": null,
   "metadata": {},
   "outputs": [],
   "source": [
    "# model_creation\n",
    "\n",
    "from sklearn.linear_model import Linear_Regression\n",
    "regressor= Linear_Regression()\n",
    "regressor.fit(X_train,Y_train)    # in this fit method bias and intercept value is stored"
   ]
  },
  {
   "cell_type": "code",
   "execution_count": null,
   "metadata": {},
   "outputs": [],
   "source": [
    "#viewing bias and intersepct value.\n",
    "weight = regressor.coef_              -------> # weight means distance between two data point\n",
    "bais = regressor.intercept_         ---------> #bais means origin of the line \n"
   ]
  },
  {
   "cell_type": "code",
   "execution_count": null,
   "metadata": {},
   "outputs": [],
   "source": [
    "# here is the perdiction \n",
    "y_predict = regressor.predict(X_test)"
   ]
  },
  {
   "cell_type": "code",
   "execution_count": null,
   "metadata": {},
   "outputs": [],
   "source": [
    "#evalution metrics\n",
    "\n",
    "from sklearn.metrics import r2_score \n",
    "R_score = r2_score(Y_test,y_pred)"
   ]
  },
  {
   "cell_type": "code",
   "execution_count": null,
   "metadata": {},
   "outputs": [],
   "source": [
    "#to save the model \n",
    "\n",
    "import pickle\n",
    "filename= \"final_model.sav\"\n",
    "pickle.dump(regressor,open(filename,\"wb\"))"
   ]
  },
  {
   "cell_type": "code",
   "execution_count": null,
   "metadata": {},
   "outputs": [],
   "source": [
    "#deploy the model\n",
    "\n",
    "loaded_model = pickle.load(open(\"final_model.sav\",\"rb\"))\n",
    "\n",
    "result = loaded_model.predict([[15]])              # passinf the value 15 to the predict the salary"
   ]
  }
 ],
 "metadata": {
  "kernelspec": {
   "display_name": "Python 3",
   "language": "python",
   "name": "python3"
  },
  "language_info": {
   "codemirror_mode": {
    "name": "ipython",
    "version": 3
   },
   "file_extension": ".py",
   "mimetype": "text/x-python",
   "name": "python",
   "nbconvert_exporter": "python",
   "pygments_lexer": "ipython3",
   "version": "3.7.4"
  }
 },
 "nbformat": 4,
 "nbformat_minor": 2
}
